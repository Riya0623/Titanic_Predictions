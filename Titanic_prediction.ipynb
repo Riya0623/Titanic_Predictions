{
  "nbformat": 4,
  "nbformat_minor": 0,
  "metadata": {
    "colab": {
      "provenance": [],
      "authorship_tag": "ABX9TyMBzR114J9SKJ7nJJkQkZIv",
      "include_colab_link": true
    },
    "kernelspec": {
      "name": "python3",
      "display_name": "Python 3"
    },
    "language_info": {
      "name": "python"
    }
  },
  "cells": [
    {
      "cell_type": "markdown",
      "metadata": {
        "id": "view-in-github",
        "colab_type": "text"
      },
      "source": [
        "<a href=\"https://colab.research.google.com/github/Riya0623/Titanic_Predictions/blob/main/Titanic_prediction.ipynb\" target=\"_parent\"><img src=\"https://colab.research.google.com/assets/colab-badge.svg\" alt=\"Open In Colab\"/></a>"
      ]
    },
    {
      "cell_type": "code",
      "execution_count": 2,
      "metadata": {
        "id": "K-B-ElUv9b6b"
      },
      "outputs": [],
      "source": [
        "import zipfile\n",
        "zip_ref = zipfile.ZipFile('/content/titanic.zip', 'r')\n",
        "zip_ref.extractall('/content')\n",
        "zip_ref.close()"
      ]
    },
    {
      "cell_type": "markdown",
      "source": [
        "# Importing necessary libraries:"
      ],
      "metadata": {
        "id": "wegS43MFOenF"
      }
    },
    {
      "cell_type": "code",
      "source": [
        "import warnings\n",
        "import numpy as np\n",
        "import pandas as pd\n",
        "import matplotlib.pyplot as plt\n",
        "import seaborn as sns\n",
        "plt.style.use('fivethirtyeight')\n",
        "%matplotlib inline\n",
        "warnings.filterwarnings('ignore')\n"
      ],
      "metadata": {
        "id": "i7KPsiDw9-5_"
      },
      "execution_count": 3,
      "outputs": []
    },
    {
      "cell_type": "markdown",
      "source": [
        "# Reading data from CSV files:\n",
        "\n"
      ],
      "metadata": {
        "id": "mj6Nfu_6OnUL"
      }
    },
    {
      "cell_type": "code",
      "source": [
        "train = pd.read_csv('train.csv')\n",
        "test = pd.read_csv('test.csv')\n",
        "\n",
        "\n"
      ],
      "metadata": {
        "id": "mj96yTF8-ECt"
      },
      "execution_count": 4,
      "outputs": []
    },
    {
      "cell_type": "markdown",
      "source": [
        "# Data exploration:\n",
        "\n",
        "\n",
        "*   Displaying the shape of the training data using the .shape attribute.\n",
        "*   Displaying information about the training data using the .info() method.\n",
        "\n",
        "*   Checking for missing values in the training data using .isnull().sum().\n",
        "\n",
        "\n",
        "\n",
        "\n",
        "\n",
        "\n"
      ],
      "metadata": {
        "id": "q_7l1HX-QqLj"
      }
    },
    {
      "cell_type": "code",
      "source": [
        "train.shape"
      ],
      "metadata": {
        "colab": {
          "base_uri": "https://localhost:8080/"
        },
        "id": "Wt3iMJnA-HR9",
        "outputId": "f5972cde-92e0-4add-f791-2a90a63b8d6e"
      },
      "execution_count": 5,
      "outputs": [
        {
          "output_type": "execute_result",
          "data": {
            "text/plain": [
              "(891, 12)"
            ]
          },
          "metadata": {},
          "execution_count": 5
        }
      ]
    },
    {
      "cell_type": "code",
      "source": [
        "train.info()"
      ],
      "metadata": {
        "colab": {
          "base_uri": "https://localhost:8080/"
        },
        "id": "npBb1z--Qhwq",
        "outputId": "cc7b607f-192d-4379-9ff4-9c47192af2a8"
      },
      "execution_count": 6,
      "outputs": [
        {
          "output_type": "stream",
          "name": "stdout",
          "text": [
            "<class 'pandas.core.frame.DataFrame'>\n",
            "RangeIndex: 891 entries, 0 to 890\n",
            "Data columns (total 12 columns):\n",
            " #   Column       Non-Null Count  Dtype  \n",
            "---  ------       --------------  -----  \n",
            " 0   PassengerId  891 non-null    int64  \n",
            " 1   Survived     891 non-null    int64  \n",
            " 2   Pclass       891 non-null    int64  \n",
            " 3   Name         891 non-null    object \n",
            " 4   Sex          891 non-null    object \n",
            " 5   Age          714 non-null    float64\n",
            " 6   SibSp        891 non-null    int64  \n",
            " 7   Parch        891 non-null    int64  \n",
            " 8   Ticket       891 non-null    object \n",
            " 9   Fare         891 non-null    float64\n",
            " 10  Cabin        204 non-null    object \n",
            " 11  Embarked     889 non-null    object \n",
            "dtypes: float64(2), int64(5), object(5)\n",
            "memory usage: 83.7+ KB\n"
          ]
        }
      ]
    },
    {
      "cell_type": "code",
      "source": [
        "train.isnull().sum()"
      ],
      "metadata": {
        "colab": {
          "base_uri": "https://localhost:8080/"
        },
        "id": "nQ5Y6GAR-LUM",
        "outputId": "75d98cbb-99ef-4b2f-f5c8-c531543f4208"
      },
      "execution_count": 7,
      "outputs": [
        {
          "output_type": "execute_result",
          "data": {
            "text/plain": [
              "PassengerId      0\n",
              "Survived         0\n",
              "Pclass           0\n",
              "Name             0\n",
              "Sex              0\n",
              "Age            177\n",
              "SibSp            0\n",
              "Parch            0\n",
              "Ticket           0\n",
              "Fare             0\n",
              "Cabin          687\n",
              "Embarked         2\n",
              "dtype: int64"
            ]
          },
          "metadata": {},
          "execution_count": 7
        }
      ]
    },
    {
      "cell_type": "markdown",
      "source": [
        "# Visualizing data:\n",
        "\n",
        "\n",
        "\n",
        "1.  Creating pie and count plots to visualize the distribution of the 'Survived' column.\n",
        "\n",
        "2.  Creating bar plots to visualize the relationship between 'Sex' and 'Survived' columns.\n",
        "\n"
      ],
      "metadata": {
        "id": "mI4zqQ5gP0Bx"
      }
    },
    {
      "cell_type": "code",
      "source": [
        "import matplotlib.pyplot as plt\n",
        "import seaborn as sns\n",
        "\n",
        "f, ax = plt.subplots(1, 2, figsize=(12, 4))\n",
        "\n",
        "colors = [\"red\", \"blue\"]\n",
        "\n",
        "# Pie chart on the first subplot\n",
        "train['Survived'].value_counts().plot.pie(\n",
        "    explode=[0, 0.1], autopct='%1.1f%%', ax=ax[0], shadow=False, colors=colors)\n",
        "ax[0].set_title('Dead (0) and the Survivors (1)')\n",
        "ax[0].set_ylabel('')\n",
        "\n",
        "# Count plot on the second subplot\n",
        "sns.countplot(x='Survived', data=train, palette=colors, ax=ax[1])  # Specify 'x' argument for the column name and set color palette\n",
        "ax[1].set_ylabel('Quantity')\n",
        "ax[1].set_title('Dead (0) and the Survivors (1)')\n",
        "\n",
        "plt.show()\n"
      ],
      "metadata": {
        "colab": {
          "base_uri": "https://localhost:8080/",
          "height": 438
        },
        "id": "2GT3krpe-Pyx",
        "outputId": "e4f3e91e-2661-4851-cfd0-d54e6609fcfe"
      },
      "execution_count": 8,
      "outputs": [
        {
          "output_type": "display_data",
          "data": {
            "text/plain": [
              "<Figure size 1200x400 with 2 Axes>"
            ],
            "image/png": "[encoded data removed]"
          },
          "metadata": {}
        }
      ]
    },
    {
      "source": [
        "f, ax = plt.subplots(1, 2, figsize=(12, 4))\n",
        "\n",
        "colors = [\"red\", \"blue\"]\n",
        "\n",
        "train[['Sex', 'Survived']].groupby(['Sex']).mean().plot.bar(ax=ax[0])\n",
        "ax[0].set_title('Survivors by sex')\n",
        "\n",
        "sns.countplot(x='Sex', hue='Survived', palette=colors ,data=train, ax=ax[1])\n",
        "ax[1].set_ylabel('Quantity')\n",
        "ax[1].set_title('Survived (1) and deceased (0): men and women')\n",
        "plt.show()"
      ],
      "cell_type": "code",
      "metadata": {
        "colab": {
          "base_uri": "https://localhost:8080/",
          "height": 424
        },
        "id": "o6o8J9ee_W1G",
        "outputId": "364d2b57-7010-4eb9-9dcd-456b4e7d60d1"
      },
      "execution_count": 9,
      "outputs": [
        {
          "output_type": "display_data",
          "data": {
            "text/plain": [
              "<Figure size 1200x400 with 2 Axes>"
            ],
            "image/png": "[encoded data removed]"
          },
          "metadata": {}
        }
      ]
    },
    {
      "cell_type": "markdown",
      "source": [
        "# Feature engineering:\n",
        "\n",
        "\n",
        "*   Creating a new binary feature 'CabinBool' indicating whether 'Cabin' is present.\n",
        "\n",
        "*   Dropping unnecessary columns 'Cabin' and 'Ticket'.\n",
        "\n",
        "*   Handling missing values in the 'Age' column and grouping ages into categories.\n",
        "*   Extracting titles from the 'Name' column and mapping them to common categories.\n",
        "\n",
        "\n",
        "\n"
      ],
      "metadata": {
        "id": "MOzEDsy_RP-R"
      }
    },
    {
      "cell_type": "code",
      "source": [
        " train[\"CabinBool\"] = (train[\"Cabin\"].notnull().astype('int'))\n",
        "test[\"CabinBool\"] = (test[\"Cabin\"].notnull().astype('int'))\n",
        "\n",
        "train = train.drop(['Cabin'], axis=1)\n",
        "test = test.drop(['Cabin'], axis=1)\n"
      ],
      "metadata": {
        "id": "nWbWriQd-VXu"
      },
      "execution_count": 10,
      "outputs": []
    },
    {
      "cell_type": "code",
      "source": [
        "train = train.drop(['Ticket'], axis=1)\n",
        "test = test.drop(['Ticket'], axis=1)\n"
      ],
      "metadata": {
        "id": "m0GqBwg8DHJL"
      },
      "execution_count": 11,
      "outputs": []
    },
    {
      "cell_type": "code",
      "source": [
        "train = train.fillna({\"Embarked\": \"S\"})"
      ],
      "metadata": {
        "id": "Y4rqeWmQDKpt"
      },
      "execution_count": 12,
      "outputs": []
    },
    {
      "cell_type": "markdown",
      "source": [
        "# Data preprocessing:\n",
        "\n",
        "\n",
        "\n",
        "*   Handling missing values in the 'AgeGroup' column based on the 'Title'.\n",
        "\n",
        "\n",
        "\n",
        "*  Mapping categorical values to numerical values for 'Title', 'Sex', and 'Embarked' columns.\n",
        "\n",
        "*  Handling missing values in the 'Fare' column and binning fares into categories.\n",
        "*  Dropping unnecessary columns 'Age' and 'Fare'.\n",
        "\n",
        "\n",
        "\n"
      ],
      "metadata": {
        "id": "4ssre4yK3d0H"
      }
    },
    {
      "cell_type": "code",
      "source": [
        "\n",
        "train[\"Age\"] = train[\"Age\"].fillna(-0.5)\n",
        "test[\"Age\"] = test[\"Age\"].fillna(-0.5)\n",
        "\n",
        "bins = [-1, 0, 5, 12, 18, 24, 35, 60, np.inf]\n",
        "labels = ['Unknown', 'Baby', 'Child', 'Teenager',\n",
        "\t\t'Student', 'Young Adult', 'Adult', 'Senior']\n",
        "\n",
        "train['AgeGroup'] = pd.cut(train[\"Age\"], bins, labels=labels)\n",
        "test['AgeGroup'] = pd.cut(test[\"Age\"], bins, labels=labels)\n"
      ],
      "metadata": {
        "id": "2yfKrx0ODQPZ"
      },
      "execution_count": 13,
      "outputs": []
    },
    {
      "cell_type": "code",
      "source": [
        "\n",
        "combine = [train, test]\n",
        "\n",
        "for dataset in combine:\n",
        "\tdataset['Title'] = dataset.Name.str.extract(' ([A-Za-z]+)\\.', expand=False)\n",
        "\n",
        "pd.crosstab(train['Title'], train['Sex'])\n",
        "\n",
        "for dataset in combine:\n",
        "\tdataset['Title'] = dataset['Title'].replace(['Lady', 'Capt', 'Col',\n",
        "\t\t\t\t\t\t\t\t\t\t\t\t'Don', 'Dr', 'Major',\n",
        "\t\t\t\t\t\t\t\t\t\t\t\t'Rev', 'Jonkheer', 'Dona'],\n",
        "\t\t\t\t\t\t\t\t\t\t\t\t'Rare')\n",
        "\n",
        "\tdataset['Title'] = dataset['Title'].replace(\n",
        "\t\t['Countess', 'Lady', 'Sir'], 'Royal')\n",
        "\tdataset['Title'] = dataset['Title'].replace('Mlle', 'Miss')\n",
        "\tdataset['Title'] = dataset['Title'].replace('Ms', 'Miss')\n",
        "\tdataset['Title'] = dataset['Title'].replace('Mme', 'Mrs')\n",
        "\n",
        "train[['Title', 'Survived']].groupby(['Title'], as_index=False).mean()\n",
        "\n",
        "title_mapping = {\"Mr\": 1, \"Miss\": 2, \"Mrs\": 3,\n",
        "\t\t\t\t\"Master\": 4, \"Royal\": 5, \"Rare\": 6}\n",
        "for dataset in combine:\n",
        "\tdataset['Title'] = dataset['Title'].map(title_mapping)\n",
        "\tdataset['Title'] = dataset['Title'].fillna(0)\n"
      ],
      "metadata": {
        "id": "5siTyi8YDUg8"
      },
      "execution_count": 14,
      "outputs": []
    },
    {
      "cell_type": "code",
      "source": [
        "mr_age = train[train[\"Title\"] == 1][\"AgeGroup\"].mode() # Young Adult\n",
        "miss_age = train[train[\"Title\"] == 2][\"AgeGroup\"].mode() # Student\n",
        "mrs_age = train[train[\"Title\"] == 3][\"AgeGroup\"].mode() # Adult\n",
        "master_age = train[train[\"Title\"] == 4][\"AgeGroup\"].mode() # Baby\n",
        "royal_age = train[train[\"Title\"] == 5][\"AgeGroup\"].mode() # Adult\n",
        "rare_age = train[train[\"Title\"] == 6][\"AgeGroup\"].mode() # Adult\n",
        "\n",
        "age_title_mapping = {1: \"Young Adult\", 2: \"Student\",\n",
        "\t\t\t\t\t3: \"Adult\", 4: \"Baby\", 5: \"Adult\", 6: \"Adult\"}\n",
        "\n",
        "for x in range(len(train[\"AgeGroup\"])):\n",
        "\tif train[\"AgeGroup\"][x] == \"Unknown\":\n",
        "\t\ttrain[\"AgeGroup\"][x] = age_title_mapping[train[\"Title\"][x]]\n",
        "\n",
        "for x in range(len(test[\"AgeGroup\"])):\n",
        "\tif test[\"AgeGroup\"][x] == \"Unknown\":\n",
        "\t\ttest[\"AgeGroup\"][x] = age_title_mapping[test[\"Title\"][x]]\n"
      ],
      "metadata": {
        "id": "bLkqhux6DYEd"
      },
      "execution_count": 15,
      "outputs": []
    },
    {
      "cell_type": "code",
      "source": [
        "age_mapping = {'Baby': 1, 'Child': 2, 'Teenager': 3,\n",
        "\t\t\t'Student': 4, 'Young Adult': 5, 'Adult': 6,\n",
        "\t\t\t'Senior': 7}\n",
        "train['AgeGroup'] = train['AgeGroup'].map(age_mapping)\n",
        "test['AgeGroup'] = test['AgeGroup'].map(age_mapping)\n",
        "\n",
        "train.head()\n",
        "\n",
        "train = train.drop(['Age'], axis=1)\n",
        "test = test.drop(['Age'], axis=1)\n"
      ],
      "metadata": {
        "id": "Fa1K7_5uDfPA"
      },
      "execution_count": 16,
      "outputs": []
    },
    {
      "cell_type": "code",
      "source": [
        "train = train.drop(['Name'], axis=1)\n",
        "test = test.drop(['Name'], axis=1)\n"
      ],
      "metadata": {
        "id": "IRVPxtBGDjFT"
      },
      "execution_count": 17,
      "outputs": []
    },
    {
      "cell_type": "code",
      "source": [
        "sex_mapping = {\"male\": 0, \"female\": 1}\n",
        "train['Sex'] = train['Sex'].map(sex_mapping)\n",
        "test['Sex'] = test['Sex'].map(sex_mapping)\n",
        "\n",
        "embarked_mapping = {\"S\": 1, \"C\": 2, \"Q\": 3}\n",
        "train['Embarked'] = train['Embarked'].map(embarked_mapping)\n",
        "test['Embarked'] = test['Embarked'].map(embarked_mapping)\n"
      ],
      "metadata": {
        "id": "oHxQ-VlBDl5O"
      },
      "execution_count": 18,
      "outputs": []
    },
    {
      "cell_type": "code",
      "source": [
        "for x in range(len(test[\"Fare\"])):\n",
        "\tif pd.isnull(test[\"Fare\"][x]):\n",
        "\t\tpclass = test[\"Pclass\"][x] # Pclass = 3\n",
        "\t\ttest[\"Fare\"][x] = round(\n",
        "\t\t\ttrain[train[\"Pclass\"] == pclass][\"Fare\"].mean(), 4)\n",
        "\n",
        "train['FareBand'] = pd.qcut(train['Fare'], 4,\n",
        "\t\t\t\t\t\t\tlabels=[1, 2, 3, 4])\n",
        "test['FareBand'] = pd.qcut(test['Fare'], 4,\n",
        "\t\t\t\t\t\tlabels=[1, 2, 3, 4])\n",
        "\n",
        "train = train.drop(['Fare'], axis=1)\n",
        "test = test.drop(['Fare'], axis=1)\n"
      ],
      "metadata": {
        "id": "pnXZIZZiDojw"
      },
      "execution_count": 19,
      "outputs": []
    },
    {
      "cell_type": "markdown",
      "source": [
        "\n",
        "# Splitting data and model training:\n",
        "\n",
        "\n",
        "*  Splitting the training data into predictors and target variables.\n",
        "\n",
        "\n",
        "*   Splitting the data into training and validation sets.\n",
        "\n",
        "*   Importing RandomForestClassifier from scikit-learn.\n",
        "*   Fitting the RandomForestClassifier model to the training data\n",
        " and making predictions on the validation set.\n",
        "\n",
        "\n",
        "\n",
        "\n",
        "\n",
        "\n",
        "\n"
      ],
      "metadata": {
        "id": "ApsPPMCP4KyV"
      }
    },
    {
      "cell_type": "code",
      "source": [
        "from sklearn.model_selection import train_test_split\n",
        "\n",
        "predictors = train.drop(['Survived', 'PassengerId'], axis=1)\n",
        "target = train[\"Survived\"]\n",
        "\n",
        "x_train, x_val, y_train, y_val = train_test_split(\n",
        "\tpredictors, target, test_size=0.2, random_state=0)\n"
      ],
      "metadata": {
        "id": "SKmqswxLD0e3"
      },
      "execution_count": 23,
      "outputs": []
    },
    {
      "cell_type": "markdown",
      "source": [
        "# Model evaluation and prediction:\n",
        "\n",
        "\n",
        "\n",
        "*   Calculating the accuracy of the model on the validation set\n",
        "and making predictions on the testing data.\n",
        "\n",
        "\n",
        "*   Saving the predictions to a CSV file named 'resultfile.csv'.\n",
        "\n"
      ],
      "metadata": {
        "id": "7QTheXKI4yvx"
      }
    },
    {
      "cell_type": "code",
      "source": [
        "from sklearn.ensemble import RandomForestClassifier\n",
        "from sklearn.metrics import accuracy_score\n",
        "\n",
        "randomforest = RandomForestClassifier()\n",
        "\n",
        "# Fit the training data along with its output\n",
        "randomforest.fit(x_train, y_train)\n",
        "y_pred = randomforest.predict(x_val)\n",
        "\n",
        "# Find the accuracy score of the model\n",
        "acc_randomforest = round(accuracy_score(y_pred, y_val) * 100, 2)\n",
        "print(acc_randomforest)\n"
      ],
      "metadata": {
        "colab": {
          "base_uri": "https://localhost:8080/"
        },
        "id": "xVU5vfx0D3m7",
        "outputId": "915cd931-24d3-4b20-e20a-ba6a0462cda1"
      },
      "execution_count": 21,
      "outputs": [
        {
          "output_type": "stream",
          "name": "stdout",
          "text": [
            "83.24\n"
          ]
        }
      ]
    },
    {
      "cell_type": "code",
      "source": [
        "ids = test['PassengerId']\n",
        "predictions = randomforest.predict(test.drop('PassengerId', axis=1))\n",
        "\n",
        "# set the output as a dataframe and convert to csv file named resultfile.csv\n",
        "\n",
        "output = pd.DataFrame({'PassengerId': ids, 'Survived': predictions})\n",
        "output.to_csv('resultfile.csv', index=False)\n"
      ],
      "metadata": {
        "id": "gsnowdyND6R_"
      },
      "execution_count": 22,
      "outputs": []
    },
    {
      "cell_type": "code",
      "source": [],
      "metadata": {
        "id": "eel_5KkxEA4z"
      },
      "execution_count": 22,
      "outputs": []
    }
  ]
}